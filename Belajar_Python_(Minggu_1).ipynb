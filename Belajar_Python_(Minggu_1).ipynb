{
  "cells": [
    {
      "cell_type": "markdown",
      "source": [
        "Nama : Rahmi\n",
        "\n",
        "Nim : H071191007"
      ],
      "metadata": {
        "id": "1RoyDphS9Bn4"
      }
    },
    {
      "cell_type": "markdown",
      "source": [
        "**Belajar Python**"
      ],
      "metadata": {
        "id": "6fjyJMbC_JHM"
      }
    },
    {
      "cell_type": "markdown",
      "source": [
        "Contoh penulisan python"
      ],
      "metadata": {
        "id": "zaMs7Lu2_w1i"
      }
    },
    {
      "cell_type": "code",
      "source": [
        "print(\"Hello World\")\n",
        "print(\"Belajar Python\")"
      ],
      "metadata": {
        "colab": {
          "base_uri": "https://localhost:8080/"
        },
        "id": "NKp2rPDu9c8U",
        "outputId": "fa0362f9-10b1-4b65-d2ad-4cfaefa408fa"
      },
      "execution_count": null,
      "outputs": [
        {
          "output_type": "stream",
          "name": "stdout",
          "text": [
            "Hello World\n",
            "Belajar Python\n"
          ]
        }
      ]
    },
    {
      "cell_type": "markdown",
      "source": [
        "Tipe Data Python\n",
        "1. Integer = Menyatakan bilangan bulat.\n",
        "2. String = Menyatakan karakter/kalimat bisa berupa huruf angka, dll (diapit tanda \" atau ')\n",
        "3. float = Menyatakan bilangan yang mempunyai koma\n",
        "4. boolean = Menyatakan benar True yang bernilai 1, atau salah False yang bernilai 0\n",
        "\n"
      ],
      "metadata": {
        "id": "J6W5okKDApQ1"
      }
    },
    {
      "cell_type": "code",
      "source": [
        "#tipe data Boolean\n",
        "print(True)\n",
        "\n",
        "#tipe data String\n",
        "print(\"Ayo belajar Python\")\n",
        "\n",
        "#tipe data Integer\n",
        "print(20)\n",
        "\n",
        "#tipe data Float\n",
        "print(3.14)"
      ],
      "metadata": {
        "colab": {
          "base_uri": "https://localhost:8080/"
        },
        "id": "NCQLTtal9Lji",
        "outputId": "f597ab55-4429-44ee-b12a-7e4a19eacc36"
      },
      "execution_count": null,
      "outputs": [
        {
          "output_type": "stream",
          "name": "stdout",
          "text": [
            "True\n",
            "Ayo belajar Python\n",
            "20\n",
            "3.14\n"
          ]
        }
      ]
    },
    {
      "cell_type": "markdown",
      "source": [
        "Variabel Python\n",
        "\n",
        "Penulisan variabel Python sendiri juga memiliki aturan tertentu, yaitu :\n",
        "1.  Karakter pertama harus berupa huruf atau garis bawah/underscore _\n",
        "2.  Karakter selanjutnya dapat berupa huruf, garis bawah/underscore _ atau angka\n",
        "3.  Karakter pada nama variabel bersifat sensitif (case-sensitif). Artinya huruf kecil dan huruf besar dibedakan. Sebagai contoh, variabel namaDepan dan namadepan adalah variabel yang berbeda."
      ],
      "metadata": {
        "id": "bZar5AXlCp3N"
      }
    },
    {
      "cell_type": "code",
      "source": [
        "#proses memasukan data ke dalam variabel\n",
        "nama = \"Rahmi\"\n",
        "#proses mencetak variabel\n",
        "print(nama)\n",
        "\n"
      ],
      "metadata": {
        "colab": {
          "base_uri": "https://localhost:8080/"
        },
        "id": "wSzG3pJdC_UH",
        "outputId": "c8faa274-d7af-4533-cb14-bdc7afdb7089"
      },
      "execution_count": null,
      "outputs": [
        {
          "output_type": "stream",
          "name": "stdout",
          "text": [
            "Rahmi\n"
          ]
        }
      ]
    },
    {
      "cell_type": "markdown",
      "source": [
        "Operator Pada Python"
      ],
      "metadata": {
        "id": "zHvb83OBDajU"
      }
    },
    {
      "cell_type": "markdown",
      "source": [
        "- Operator Aritmatika"
      ],
      "metadata": {
        "id": "TUyDDTyGDxm_"
      }
    },
    {
      "cell_type": "code",
      "source": [
        "# Operator penjumlahan\n",
        "nilai = 8 + 5\n",
        "print(\"Hasil 8+ 5 = \", nilai)\n",
        "\n",
        "# Operator Pengurangan\n",
        "nilai = 11 - 5\n",
        "print(\"Hasil 11 - 5 = \", nilai)\n",
        "\n",
        "# Operator Perkalian\n",
        "bilangan = 9 * 3\n",
        "print(\"Hasil 9 * 3 = \", bilangan)\n",
        "\n",
        "# Operator Pembagian\n",
        "bilangan = 8 / 2\n",
        "print(\"Hasil 8 / 2 = \", bilangan)\n",
        "\n",
        "# Operator Sisa Bagi (modulo)\n",
        "bilangan = 12 % 8\n",
        "print(\"Hasil 12 % 8 = \", bilangan)\n",
        "\n",
        "# Operator Pangkat\n",
        "bilangan = 5 ** 3\n",
        "print(\"Hasil 5 ** 3 = \", bilangan)\n"
      ],
      "metadata": {
        "colab": {
          "base_uri": "https://localhost:8080/"
        },
        "id": "oJ1hQHN4ESPK",
        "outputId": "de40b729-e1f0-416c-9257-1bf482ff9c0f"
      },
      "execution_count": null,
      "outputs": [
        {
          "output_type": "stream",
          "name": "stdout",
          "text": [
            "Hasil 8+ 5 =  13\n",
            "Hasil 11 - 5 =  6\n",
            "Hasil 9 * 3 =  27\n",
            "Hasil 8 / 2 =  4.0\n",
            "Hasil 12 % 8 =  4\n",
            "Hasil 5 ** 3 =  125\n"
          ]
        }
      ]
    },
    {
      "cell_type": "markdown",
      "source": [
        "- operator perbandingan"
      ],
      "metadata": {
        "id": "q01RrruXFNaD"
      }
    },
    {
      "cell_type": "code",
      "source": [
        "# Operator Sama Dengan\n",
        "nilai = 8 == 4\n",
        "print(\"Hasil 8 == 4\", nilai)\n",
        "\n",
        "# Operator Tidak Sama dengan\n",
        "nilai = 9 != 3\n",
        "print(\"Hasil 9 != 3\", nilai)\n",
        "\n",
        "# Operator Lebih Kecil\n",
        "nilai = 9 < 3\n",
        "print(\"Hasil 9 < 3\", nilai)\n",
        "\n",
        "# Operator Lebih Besar\n",
        "nilai = 8 > 2\n",
        "print(\"Hasil 8 > 2\", nilai)\n",
        "\n",
        "# Operator Lebih Besar Sama dengan\n",
        "nilai = 6 >= 2\n",
        "print(\"Hasil 6 >= 2\", nilai)\n",
        "\n",
        "# Operator Lebih Kecil Sama dengan\n",
        "nilai = 6 <= 2\n",
        "print(\"Hasil 6 <= 2\", nilai)\n"
      ],
      "metadata": {
        "colab": {
          "base_uri": "https://localhost:8080/"
        },
        "id": "U-Q_iNafGj67",
        "outputId": "effe3947-fa58-49f4-bbc2-fe92f7745830"
      },
      "execution_count": null,
      "outputs": [
        {
          "output_type": "stream",
          "name": "stdout",
          "text": [
            "Hasil 8 == 4 False\n",
            "Hasil 9 != 3 True\n",
            "Hasil 9 < 3 False\n",
            "Hasil 8 > 2 True\n",
            "Hasil 6 >= 2 True\n",
            "Hasil 6 <= 2 False\n"
          ]
        }
      ]
    },
    {
      "cell_type": "markdown",
      "source": [
        "Kondisi Python"
      ],
      "metadata": {
        "id": "3ruAesZuGwUj"
      }
    },
    {
      "cell_type": "markdown",
      "source": [
        "- Kondisi If\n",
        "\n",
        "Pengambilan keputusan (kondisi if) digunakan untuk mengantisipasi kondisi yang terjadi saat jalanya program dan menentukan tindakan apa yang akan diambil sesuai dengan kondisi."
      ],
      "metadata": {
        "id": "ULlJ-qVGG84k"
      }
    },
    {
      "cell_type": "code",
      "source": [
        "#Kondisi if adalah kondisi yang akan dieksekusi oleh program jika bernilai benar atau TRUE\n",
        "\n",
        "nilai = 9\n",
        "\n",
        "#jika kondisi benar/TRUE maka program akan mengeksekusi perintah dibawahnya\n",
        "if(nilai > 7):\n",
        "    print(\"Sembilan Lebih Besar Dari Angka Tujuh\") # Kondisi Benar, Dieksekusi\n",
        "\n",
        "#jika kondisi salah/FALSE maka program tidak akan mengeksekusi perintah dibawahnya\n",
        "if(nilai > 10):\n",
        "    print(\"Sembilan Lebih Besar Dari Angka Sepuluh\") # Kondisi Salah, Maka tidak tereksekusi"
      ],
      "metadata": {
        "colab": {
          "base_uri": "https://localhost:8080/"
        },
        "id": "jW8FXTzBHCc-",
        "outputId": "c2020918-04dd-4980-bb66-5e1fac6ebbd1"
      },
      "execution_count": null,
      "outputs": [
        {
          "output_type": "stream",
          "name": "stdout",
          "text": [
            "Sembilan Lebih Besar Dari Angka Tujuh\n"
          ]
        }
      ]
    },
    {
      "cell_type": "markdown",
      "source": [
        "- Kondisi If Else\n",
        "\n",
        "Pengambilan keputusan (kondisi if else) tidak hanya digunakan untuk menentukan tindakan apa yang akan diambil sesuai dengan kondisi, tetapi juga digunakan untuk menentukan tindakan apa yang akan diambil/dijalankan jika kondisi tidak sesuai."
      ],
      "metadata": {
        "id": "4sQBpPLhHIox"
      }
    },
    {
      "cell_type": "code",
      "source": [
        "#Kondisi if else adalah jika kondisi bernilai TRUE maka akan dieksekusi pada if, tetapi jika bernilai FALSE maka akan dieksekusi kode pada else\n",
        "\n",
        "nilai = 3\n",
        "#Jika pernyataan pada if bernilai TRUE maka if akan dieksekusi, tetapi jika FALSE kode pada else yang akan dieksekusi.\n",
        "if(nilai > 7):\n",
        "    print(\"Selamat Anda Lulus\")\n",
        "else:\n",
        "    print(\"Maaf Anda Tidak Lulus\")"
      ],
      "metadata": {
        "colab": {
          "base_uri": "https://localhost:8080/"
        },
        "id": "K_PGGDQ8HPAb",
        "outputId": "062a0e66-4b9b-4033-c554-4069c06ebdb9"
      },
      "execution_count": null,
      "outputs": [
        {
          "output_type": "stream",
          "name": "stdout",
          "text": [
            "Maaf Anda Tidak Lulus\n"
          ]
        }
      ]
    },
    {
      "cell_type": "markdown",
      "source": [
        "Loop Python"
      ],
      "metadata": {
        "id": "h5YlGFcTHTYm"
      }
    },
    {
      "cell_type": "markdown",
      "source": [
        "For\n",
        "\n",
        "Pengulangan for pada Python memiliki kemampuan untuk mengulangi item dari urutan apapun, seperti list atau string."
      ],
      "metadata": {
        "id": "iZVbMR5cHgQ7"
      }
    },
    {
      "cell_type": "code",
      "source": [
        "angka = [1,2,3,4,5]\n",
        "for x in angka:\n",
        "    print(x)\n",
        "\n",
        "#Contoh pengulangan for\n",
        "buah = [\"nanas\", \"apel\", \"jeruk\"]\n",
        "for makanan in buah:\n",
        "    print (\"Saya suka makan\", makanan)"
      ],
      "metadata": {
        "colab": {
          "base_uri": "https://localhost:8080/"
        },
        "id": "l4dZW9WLHkhA",
        "outputId": "4c6b8e74-ef4a-4fa6-9926-b6e5c2db46d0"
      },
      "execution_count": null,
      "outputs": [
        {
          "output_type": "stream",
          "name": "stdout",
          "text": [
            "1\n",
            "2\n",
            "3\n",
            "4\n",
            "5\n",
            "Saya suka makan nanas\n",
            "Saya suka makan apel\n",
            "Saya suka makan jeruk\n"
          ]
        }
      ]
    },
    {
      "cell_type": "markdown",
      "source": [
        "While\n",
        "\n",
        "Pengulangan While Loop di dalam bahasa pemrograman Python dieksesusi statement berkali-kali selama kondisi bernilai benar atau True."
      ],
      "metadata": {
        "id": "UPbaQ4jcHpH7"
      }
    },
    {
      "cell_type": "code",
      "source": [
        "count = 0\n",
        "while (count < 9):\n",
        "    print (\"The count is: \", count)\n",
        "    count = count + 1\n",
        "\n",
        "print (\"Good bye!\")"
      ],
      "metadata": {
        "colab": {
          "base_uri": "https://localhost:8080/"
        },
        "id": "q1YHNOQjH0c4",
        "outputId": "84799f1d-3847-41c0-e040-7b34ce0782f1"
      },
      "execution_count": null,
      "outputs": [
        {
          "output_type": "stream",
          "name": "stdout",
          "text": [
            "The count is:  0\n",
            "The count is:  1\n",
            "The count is:  2\n",
            "The count is:  3\n",
            "The count is:  4\n",
            "The count is:  5\n",
            "The count is:  6\n",
            "The count is:  7\n",
            "The count is:  8\n",
            "Good bye!\n"
          ]
        }
      ]
    }
  ],
  "metadata": {
    "colab": {
      "collapsed_sections": [],
      "name": "Belajar Python (Minggu 1)",
      "toc_visible": true,
      "provenance": []
    },
    "kernelspec": {
      "display_name": "Python 3",
      "name": "python3"
    }
  },
  "nbformat": 4,
  "nbformat_minor": 0
}