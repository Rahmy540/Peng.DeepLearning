{
  "nbformat": 4,
  "nbformat_minor": 0,
  "metadata": {
    "colab": {
      "name": "DeepLearningComputation (Minggu 3)",
      "provenance": []
    },
    "kernelspec": {
      "name": "python3",
      "display_name": "Python 3"
    },
    "language_info": {
      "name": "python"
    }
  },
  "cells": [
    {
      "cell_type": "markdown",
      "source": [
        "# **Deep Learning Computation**"
      ],
      "metadata": {
        "id": "PcGIqlo7Kfpa"
      }
    },
    {
      "cell_type": "markdown",
      "source": [
        "**1. Layers and Block**"
      ],
      "metadata": {
        "id": "rjQksWDdLsGx"
      }
    },
    {
      "cell_type": "code",
      "source": [
        "import tensorflow as tf\n",
        "\n",
        "net = tf.keras.models.Sequential([\n",
        "    tf.keras.layers.Dense(256, activation=tf.nn.relu),\n",
        "    tf.keras.layers.Dense(10),\n",
        "])\n",
        "\n",
        "X = tf.random.uniform((2, 20))\n",
        "net(X)"
      ],
      "metadata": {
        "colab": {
          "base_uri": "https://localhost:8080/"
        },
        "id": "ss4c5Vb2MEs3",
        "outputId": "8b2bebec-9382-49c0-f7ad-156c54ce98db"
      },
      "execution_count": 1,
      "outputs": [
        {
          "output_type": "execute_result",
          "data": {
            "text/plain": [
              "<tf.Tensor: shape=(2, 10), dtype=float32, numpy=\n",
              "array([[-0.02033284, -0.02384312, -0.20464043, -0.1263061 ,  0.05745346,\n",
              "         0.34566107,  0.00883594,  0.1355887 ,  0.37181625,  0.36286741],\n",
              "       [-0.0235171 , -0.03886639, -0.45638585, -0.04157028,  0.13332711,\n",
              "         0.31121284,  0.09139524,  0.28973734,  0.12392002,  0.4365357 ]],\n",
              "      dtype=float32)>"
            ]
          },
          "metadata": {},
          "execution_count": 1
        }
      ]
    },
    {
      "cell_type": "markdown",
      "source": [
        "1.1 Custom Block"
      ],
      "metadata": {
        "id": "CYgxm3WpL1Yn"
      }
    },
    {
      "cell_type": "code",
      "source": [
        "class MLP(tf.keras.Model):\n",
        "    def __init__(self):\n",
        "        super().__init__()\n",
        "        self.hidden = tf.keras.layers.Dense(units=256, activation=tf.nn.relu)\n",
        "        self.out = tf.keras.layers.Dense(units=10)\n",
        "    def call(self, X):\n",
        "        return self.out(self.hidden((X)))"
      ],
      "metadata": {
        "id": "Ldqs4apOMzLE"
      },
      "execution_count": 5,
      "outputs": []
    },
    {
      "cell_type": "code",
      "source": [
        "net = MLP()\n",
        "net(X)"
      ],
      "metadata": {
        "colab": {
          "base_uri": "https://localhost:8080/"
        },
        "id": "-ugS07G9M0fc",
        "outputId": "cf10ad6c-8a11-4bff-8e0c-c917a5b5d64e"
      },
      "execution_count": 6,
      "outputs": [
        {
          "output_type": "execute_result",
          "data": {
            "text/plain": [
              "<tf.Tensor: shape=(2, 10), dtype=float32, numpy=\n",
              "array([[-0.0948078 ,  0.24992228, -0.1590398 ,  0.03518994,  0.28906447,\n",
              "        -0.19760886,  0.0225349 ,  0.21806619, -0.13676386,  0.0352051 ],\n",
              "       [-0.10221779,  0.07890572, -0.07550462,  0.33047658,  0.08063342,\n",
              "        -0.02278177, -0.07280055,  0.15085572,  0.00908687, -0.05547542]],\n",
              "      dtype=float32)>"
            ]
          },
          "metadata": {},
          "execution_count": 6
        }
      ]
    },
    {
      "cell_type": "markdown",
      "source": [
        "1.2 The Sequential Block"
      ],
      "metadata": {
        "id": "hByevliZM3tg"
      }
    },
    {
      "cell_type": "code",
      "source": [
        "class MySequential(tf.keras.Model):\n",
        "    def __init__(self, *args):\n",
        "        super().__init__()\n",
        "        self.modules = []\n",
        "        for block in args:\n",
        "            # Here, `block` is an instance of a `tf.keras.layers.Layer`\n",
        "            # subclass\n",
        "            self.modules.append(block)\n",
        "\n",
        "    def call(self, X):\n",
        "        for module in self.modules:\n",
        "            X = module(X)\n",
        "        return X"
      ],
      "metadata": {
        "id": "LiQ_EN9hM-Os"
      },
      "execution_count": 7,
      "outputs": []
    },
    {
      "cell_type": "code",
      "source": [
        "net = MySequential(\n",
        "    tf.keras.layers.Dense(units=256, activation=tf.nn.relu),\n",
        "    tf.keras.layers.Dense(10))\n",
        "net(X)"
      ],
      "metadata": {
        "colab": {
          "base_uri": "https://localhost:8080/"
        },
        "id": "UqyJLMtYNXX8",
        "outputId": "05975ed4-ef13-4a76-822c-cf2f614c02e9"
      },
      "execution_count": 8,
      "outputs": [
        {
          "output_type": "execute_result",
          "data": {
            "text/plain": [
              "<tf.Tensor: shape=(2, 10), dtype=float32, numpy=\n",
              "array([[-0.10432345, -0.12084252, -0.02400047, -0.17608589, -0.09269628,\n",
              "         0.10795489, -0.02927341, -0.5174448 , -0.23034364, -0.10060762],\n",
              "       [-0.07805066, -0.14270982,  0.16359629, -0.3703683 , -0.10993281,\n",
              "         0.28001106, -0.12852353, -0.1608432 , -0.04418997, -0.21185318]],\n",
              "      dtype=float32)>"
            ]
          },
          "metadata": {},
          "execution_count": 8
        }
      ]
    },
    {
      "cell_type": "markdown",
      "source": [
        "1.3 Executing Code in The Forward Propagation Function"
      ],
      "metadata": {
        "id": "a2bKBMWbNmot"
      }
    },
    {
      "cell_type": "code",
      "source": [
        "class FixedHiddenMLP(tf.keras.Model):\n",
        "    def __init__(self):\n",
        "        super().__init__()\n",
        "        self.flatten = tf.keras.layers.Flatten()\n",
        "        self.rand_weight = tf.constant(tf.random.uniform((20, 20)))\n",
        "        self.dense = tf.keras.layers.Dense(20, activation=tf.nn.relu)\n",
        "\n",
        "    def call(self, inputs):\n",
        "        X = self.flatten(inputs)\n",
        "        X = tf.nn.relu(tf.matmul(X, self.rand_weight) + 1)\n",
        "        X = self.dense(X)\n",
        "        while tf.reduce_sum(tf.math.abs(X)) > 1:\n",
        "            X /= 2\n",
        "        return tf.reduce_sum(X)"
      ],
      "metadata": {
        "id": "5L_fZT7vNqqx"
      },
      "execution_count": 9,
      "outputs": []
    },
    {
      "cell_type": "code",
      "source": [
        "net = FixedHiddenMLP()\n",
        "net(X)"
      ],
      "metadata": {
        "colab": {
          "base_uri": "https://localhost:8080/"
        },
        "id": "mS-4ONKDNyvx",
        "outputId": "ebd19e7d-0ad7-4194-9ade-0447ce66a92d"
      },
      "execution_count": 10,
      "outputs": [
        {
          "output_type": "execute_result",
          "data": {
            "text/plain": [
              "<tf.Tensor: shape=(), dtype=float32, numpy=0.90105516>"
            ]
          },
          "metadata": {},
          "execution_count": 10
        }
      ]
    },
    {
      "cell_type": "code",
      "source": [
        "class NestMLP(tf.keras.Model):\n",
        "    def __init__(self):\n",
        "        super().__init__()\n",
        "        self.net = tf.keras.Sequential()\n",
        "        self.net.add(tf.keras.layers.Dense(64, activation=tf.nn.relu))\n",
        "        self.net.add(tf.keras.layers.Dense(32, activation=tf.nn.relu))\n",
        "        self.dense = tf.keras.layers.Dense(16, activation=tf.nn.relu)\n",
        "\n",
        "    def call(self, inputs):\n",
        "        return self.dense(self.net(inputs))\n",
        "\n",
        "chimera = tf.keras.Sequential()\n",
        "chimera.add(NestMLP())\n",
        "chimera.add(tf.keras.layers.Dense(20))\n",
        "chimera.add(FixedHiddenMLP())\n",
        "chimera(X)"
      ],
      "metadata": {
        "colab": {
          "base_uri": "https://localhost:8080/"
        },
        "id": "SHXDVQZANz8b",
        "outputId": "7457ac40-3808-4400-fb8d-30ccd6e56fee"
      },
      "execution_count": 11,
      "outputs": [
        {
          "output_type": "execute_result",
          "data": {
            "text/plain": [
              "<tf.Tensor: shape=(), dtype=float32, numpy=0.5952771>"
            ]
          },
          "metadata": {},
          "execution_count": 11
        }
      ]
    },
    {
      "cell_type": "markdown",
      "source": [
        "# **2. Parameter Management**"
      ],
      "metadata": {
        "id": "Uoi5y7lcOA9K"
      }
    },
    {
      "cell_type": "code",
      "source": [
        "import tensorflow as tf\n",
        "\n",
        "net = tf.keras.models.Sequential([\n",
        "    tf.keras.layers.Flatten(),\n",
        "    tf.keras.layers.Dense(4, activation=tf.nn.relu),\n",
        "    tf.keras.layers.Dense(1),\n",
        "])\n",
        "\n",
        "X = tf.random.uniform((2, 4))\n",
        "net(X)"
      ],
      "metadata": {
        "colab": {
          "base_uri": "https://localhost:8080/"
        },
        "id": "GmTU3yZ-OE6w",
        "outputId": "a0ed80cd-dc03-43b3-ae98-8f62360f56ab"
      },
      "execution_count": 12,
      "outputs": [
        {
          "output_type": "execute_result",
          "data": {
            "text/plain": [
              "<tf.Tensor: shape=(2, 1), dtype=float32, numpy=\n",
              "array([[0.26741803],\n",
              "       [0.40120324]], dtype=float32)>"
            ]
          },
          "metadata": {},
          "execution_count": 12
        }
      ]
    },
    {
      "cell_type": "markdown",
      "source": [
        "2.1 Parameter Access"
      ],
      "metadata": {
        "id": "sOxZtkFAOOLD"
      }
    },
    {
      "cell_type": "code",
      "source": [
        "print(net.layers[2].weights)"
      ],
      "metadata": {
        "colab": {
          "base_uri": "https://localhost:8080/"
        },
        "id": "0hAi9wjvOPdU",
        "outputId": "5871d066-9922-47d2-fe2a-8952bd58a50e"
      },
      "execution_count": 13,
      "outputs": [
        {
          "output_type": "stream",
          "name": "stdout",
          "text": [
            "[<tf.Variable 'dense_13/kernel:0' shape=(4, 1) dtype=float32, numpy=\n",
            "array([[0.04953098],\n",
            "       [0.39574337],\n",
            "       [0.2673322 ],\n",
            "       [0.9926119 ]], dtype=float32)>, <tf.Variable 'dense_13/bias:0' shape=(1,) dtype=float32, numpy=array([0.], dtype=float32)>]\n"
          ]
        }
      ]
    },
    {
      "cell_type": "markdown",
      "source": [
        "2.1.1 Targeted parameters"
      ],
      "metadata": {
        "id": "EhriS76GOS19"
      }
    },
    {
      "cell_type": "code",
      "source": [
        "print(type(net.layers[2].weights[1]))\n",
        "print(net.layers[2].weights[1])\n",
        "print(tf.convert_to_tensor(net.layers[2].weights[1]))"
      ],
      "metadata": {
        "colab": {
          "base_uri": "https://localhost:8080/"
        },
        "id": "uXGN3apGOXJp",
        "outputId": "29bbe7ec-1b9d-43b7-95c4-bc035c9e7bd3"
      },
      "execution_count": 14,
      "outputs": [
        {
          "output_type": "stream",
          "name": "stdout",
          "text": [
            "<class 'tensorflow.python.ops.resource_variable_ops.ResourceVariable'>\n",
            "<tf.Variable 'dense_13/bias:0' shape=(1,) dtype=float32, numpy=array([0.], dtype=float32)>\n",
            "tf.Tensor([0.], shape=(1,), dtype=float32)\n"
          ]
        }
      ]
    },
    {
      "cell_type": "code",
      "source": [
        "print(net.layers[1].weights)\n",
        "print(net.get_weights())"
      ],
      "metadata": {
        "colab": {
          "base_uri": "https://localhost:8080/"
        },
        "id": "WIYOI6CCOaYO",
        "outputId": "fb178c10-6eba-4b40-d354-883dd4ddde20"
      },
      "execution_count": 15,
      "outputs": [
        {
          "output_type": "stream",
          "name": "stdout",
          "text": [
            "[<tf.Variable 'dense_12/kernel:0' shape=(4, 4) dtype=float32, numpy=\n",
            "array([[ 0.44600707,  0.21102661,  0.2930383 , -0.5377409 ],\n",
            "       [ 0.21936625,  0.32913667, -0.6047634 ,  0.7387952 ],\n",
            "       [-0.1762296 ,  0.84480995,  0.23226696, -0.08782375],\n",
            "       [ 0.46524698, -0.27407533, -0.10384178, -0.19128174]],\n",
            "      dtype=float32)>, <tf.Variable 'dense_12/bias:0' shape=(4,) dtype=float32, numpy=array([0., 0., 0., 0.], dtype=float32)>]\n",
            "[array([[ 0.44600707,  0.21102661,  0.2930383 , -0.5377409 ],\n",
            "       [ 0.21936625,  0.32913667, -0.6047634 ,  0.7387952 ],\n",
            "       [-0.1762296 ,  0.84480995,  0.23226696, -0.08782375],\n",
            "       [ 0.46524698, -0.27407533, -0.10384178, -0.19128174]],\n",
            "      dtype=float32), array([0., 0., 0., 0.], dtype=float32), array([[0.04953098],\n",
            "       [0.39574337],\n",
            "       [0.2673322 ],\n",
            "       [0.9926119 ]], dtype=float32), array([0.], dtype=float32)]\n"
          ]
        }
      ]
    },
    {
      "cell_type": "code",
      "source": [
        "net.get_weights()[1]"
      ],
      "metadata": {
        "colab": {
          "base_uri": "https://localhost:8080/"
        },
        "id": "D6x9-DoMOe2R",
        "outputId": "4bb9ef9e-9acc-4aa2-b661-0d628127d900"
      },
      "execution_count": 16,
      "outputs": [
        {
          "output_type": "execute_result",
          "data": {
            "text/plain": [
              "array([0., 0., 0., 0.], dtype=float32)"
            ]
          },
          "metadata": {},
          "execution_count": 16
        }
      ]
    },
    {
      "cell_type": "markdown",
      "source": [
        "2.1.3 Collecting Parameters from Nested Blocks"
      ],
      "metadata": {
        "id": "OgMXPttyOi3E"
      }
    },
    {
      "cell_type": "code",
      "source": [
        "def block1(name):\n",
        "    return tf.keras.Sequential([\n",
        "        tf.keras.layers.Flatten(),\n",
        "        tf.keras.layers.Dense(4, activation=tf.nn.relu)],\n",
        "        name=name)\n",
        "\n",
        "def block2():\n",
        "    net = tf.keras.Sequential()\n",
        "    for i in range(4):\n",
        "        # Nested here\n",
        "        net.add(block1(name=f'block-{i}'))\n",
        "    return net\n",
        "\n",
        "rgnet = tf.keras.Sequential()\n",
        "rgnet.add(block2())\n",
        "rgnet.add(tf.keras.layers.Dense(1))\n",
        "rgnet(X)"
      ],
      "metadata": {
        "colab": {
          "base_uri": "https://localhost:8080/"
        },
        "id": "fO9Bz5-6Ol2R",
        "outputId": "cf4dc9bf-83f4-4d1d-8443-55d9da589feb"
      },
      "execution_count": 17,
      "outputs": [
        {
          "output_type": "execute_result",
          "data": {
            "text/plain": [
              "<tf.Tensor: shape=(2, 1), dtype=float32, numpy=\n",
              "array([[0.09253305],\n",
              "       [0.17469989]], dtype=float32)>"
            ]
          },
          "metadata": {},
          "execution_count": 17
        }
      ]
    },
    {
      "cell_type": "code",
      "source": [
        "print(rgnet.summary())"
      ],
      "metadata": {
        "colab": {
          "base_uri": "https://localhost:8080/"
        },
        "id": "gdmbPOL8OpTD",
        "outputId": "17ff7d3a-075d-4dd8-c6c0-ef93d7733074"
      },
      "execution_count": 18,
      "outputs": [
        {
          "output_type": "stream",
          "name": "stdout",
          "text": [
            "Model: \"sequential_4\"\n",
            "_________________________________________________________________\n",
            " Layer (type)                Output Shape              Param #   \n",
            "=================================================================\n",
            " sequential_5 (Sequential)   (2, 4)                    80        \n",
            "                                                                 \n",
            " dense_18 (Dense)            (2, 1)                    5         \n",
            "                                                                 \n",
            "=================================================================\n",
            "Total params: 85\n",
            "Trainable params: 85\n",
            "Non-trainable params: 0\n",
            "_________________________________________________________________\n",
            "None\n"
          ]
        }
      ]
    },
    {
      "cell_type": "code",
      "source": [
        "rgnet.layers[0].layers[1].layers[1].weights[1]"
      ],
      "metadata": {
        "colab": {
          "base_uri": "https://localhost:8080/"
        },
        "id": "zI4mCe53Ota5",
        "outputId": "8ce60799-76f2-430e-88cd-5facf729407d"
      },
      "execution_count": 19,
      "outputs": [
        {
          "output_type": "execute_result",
          "data": {
            "text/plain": [
              "<tf.Variable 'dense_15/bias:0' shape=(4,) dtype=float32, numpy=array([0., 0., 0., 0.], dtype=float32)>"
            ]
          },
          "metadata": {},
          "execution_count": 19
        }
      ]
    },
    {
      "cell_type": "markdown",
      "source": [
        "2.2 Parameters Initialization"
      ],
      "metadata": {
        "id": "sA4av3cDOxUQ"
      }
    },
    {
      "cell_type": "markdown",
      "source": [
        "2.2.1 Built-in Initialization"
      ],
      "metadata": {
        "id": "qO3Xgh-vOz93"
      }
    },
    {
      "cell_type": "code",
      "source": [
        "net = tf.keras.models.Sequential([\n",
        "    tf.keras.layers.Flatten(),\n",
        "    tf.keras.layers.Dense(\n",
        "        4, activation=tf.nn.relu,\n",
        "        kernel_initializer=tf.random_normal_initializer(mean=0, stddev=0.01),\n",
        "        bias_initializer=tf.zeros_initializer()),\n",
        "    tf.keras.layers.Dense(1)])\n",
        "\n",
        "net(X)\n",
        "net.weights[0], net.weights[1]"
      ],
      "metadata": {
        "colab": {
          "base_uri": "https://localhost:8080/"
        },
        "id": "qfVIN9heO2OF",
        "outputId": "cf00c130-eb03-45e4-e374-77a68ef3c887"
      },
      "execution_count": 20,
      "outputs": [
        {
          "output_type": "execute_result",
          "data": {
            "text/plain": [
              "(<tf.Variable 'dense_19/kernel:0' shape=(4, 4) dtype=float32, numpy=\n",
              " array([[ 0.00687757,  0.00502471,  0.00753744, -0.02056741],\n",
              "        [-0.0138526 , -0.01687078,  0.01199934, -0.0091607 ],\n",
              "        [-0.00637518,  0.00897097, -0.00251401, -0.0051732 ],\n",
              "        [ 0.00997718, -0.00408381, -0.02246276,  0.00090009]],\n",
              "       dtype=float32)>,\n",
              " <tf.Variable 'dense_19/bias:0' shape=(4,) dtype=float32, numpy=array([0., 0., 0., 0.], dtype=float32)>)"
            ]
          },
          "metadata": {},
          "execution_count": 20
        }
      ]
    },
    {
      "cell_type": "code",
      "source": [
        "net = tf.keras.models.Sequential([\n",
        "    tf.keras.layers.Flatten(),\n",
        "    tf.keras.layers.Dense(\n",
        "        4, activation=tf.nn.relu,\n",
        "        kernel_initializer=tf.keras.initializers.Constant(1),\n",
        "        bias_initializer=tf.zeros_initializer()),\n",
        "    tf.keras.layers.Dense(1),\n",
        "])\n",
        "\n",
        "net(X)\n",
        "net.weights[0], net.weights[1]"
      ],
      "metadata": {
        "colab": {
          "base_uri": "https://localhost:8080/"
        },
        "id": "Xv2o7BoTO57o",
        "outputId": "047c25e7-438f-4d4d-8680-073ca768db39"
      },
      "execution_count": 21,
      "outputs": [
        {
          "output_type": "execute_result",
          "data": {
            "text/plain": [
              "(<tf.Variable 'dense_21/kernel:0' shape=(4, 4) dtype=float32, numpy=\n",
              " array([[1., 1., 1., 1.],\n",
              "        [1., 1., 1., 1.],\n",
              "        [1., 1., 1., 1.],\n",
              "        [1., 1., 1., 1.]], dtype=float32)>,\n",
              " <tf.Variable 'dense_21/bias:0' shape=(4,) dtype=float32, numpy=array([0., 0., 0., 0.], dtype=float32)>)"
            ]
          },
          "metadata": {},
          "execution_count": 21
        }
      ]
    },
    {
      "cell_type": "code",
      "source": [
        "net = tf.keras.models.Sequential([\n",
        "    tf.keras.layers.Flatten(),\n",
        "    tf.keras.layers.Dense(\n",
        "        4,\n",
        "        activation=tf.nn.relu,\n",
        "        kernel_initializer=tf.keras.initializers.GlorotUniform()),\n",
        "    tf.keras.layers.Dense(\n",
        "        1, kernel_initializer=tf.keras.initializers.Constant(42)),\n",
        "])\n",
        "\n",
        "net(X)\n",
        "print(net.layers[1].weights[0])\n",
        "print(net.layers[2].weights[0])"
      ],
      "metadata": {
        "colab": {
          "base_uri": "https://localhost:8080/"
        },
        "id": "nmsOyqrlPFQX",
        "outputId": "cb51d98c-b9a3-43f0-a24e-8280375c2249"
      },
      "execution_count": 22,
      "outputs": [
        {
          "output_type": "stream",
          "name": "stdout",
          "text": [
            "<tf.Variable 'dense_23/kernel:0' shape=(4, 4) dtype=float32, numpy=\n",
            "array([[ 0.3705209 ,  0.36428553,  0.07627267, -0.01112145],\n",
            "       [-0.68365765,  0.863336  ,  0.4518494 , -0.60243416],\n",
            "       [-0.53056645,  0.09040552,  0.7859685 ,  0.28471965],\n",
            "       [-0.23487389,  0.08197904, -0.14429533,  0.2748583 ]],\n",
            "      dtype=float32)>\n",
            "<tf.Variable 'dense_24/kernel:0' shape=(4, 1) dtype=float32, numpy=\n",
            "array([[42.],\n",
            "       [42.],\n",
            "       [42.],\n",
            "       [42.]], dtype=float32)>\n"
          ]
        }
      ]
    },
    {
      "cell_type": "markdown",
      "source": [
        "2.2.2 Custom Initialization"
      ],
      "metadata": {
        "id": "UHjlJH8FPHtV"
      }
    },
    {
      "cell_type": "code",
      "source": [
        "class MyInit(tf.keras.initializers.Initializer):\n",
        "    def __call__(self, shape, dtype=None):\n",
        "        data=tf.random.uniform(shape, -10, 10, dtype=dtype)\n",
        "        factor=(tf.abs(data) >= 5)\n",
        "        factor=tf.cast(factor, tf.float32)\n",
        "        return data * factor\n",
        "\n",
        "net = tf.keras.models.Sequential([\n",
        "    tf.keras.layers.Flatten(),\n",
        "    tf.keras.layers.Dense(\n",
        "        4,\n",
        "        activation=tf.nn.relu,\n",
        "        kernel_initializer=MyInit()),\n",
        "    tf.keras.layers.Dense(1),\n",
        "])\n",
        "\n",
        "net(X)\n",
        "print(net.layers[1].weights[0])"
      ],
      "metadata": {
        "colab": {
          "base_uri": "https://localhost:8080/"
        },
        "id": "TvJZBtZvPJ8x",
        "outputId": "3c2755df-f390-4d08-bafb-f25dd9cce62c"
      },
      "execution_count": 23,
      "outputs": [
        {
          "output_type": "stream",
          "name": "stdout",
          "text": [
            "<tf.Variable 'dense_25/kernel:0' shape=(4, 4) dtype=float32, numpy=\n",
            "array([[ 7.217537 , -0.       ,  7.5134563, -0.       ],\n",
            "       [ 0.       , -8.064297 ,  0.       ,  8.1307335],\n",
            "       [ 0.       ,  8.901356 , -0.       , -0.       ],\n",
            "       [-9.025812 , -7.4154925,  0.       , -6.074741 ]], dtype=float32)>\n"
          ]
        }
      ]
    },
    {
      "cell_type": "code",
      "source": [
        "net.layers[1].weights[0][:].assign(net.layers[1].weights[0] + 1)\n",
        "net.layers[1].weights[0][0, 0].assign(42)\n",
        "net.layers[1].weights[0]"
      ],
      "metadata": {
        "colab": {
          "base_uri": "https://localhost:8080/"
        },
        "id": "Ho8_7fYnPOtP",
        "outputId": "1d08efb3-bcbe-4273-92f7-770c06503c09"
      },
      "execution_count": 24,
      "outputs": [
        {
          "output_type": "execute_result",
          "data": {
            "text/plain": [
              "<tf.Variable 'dense_25/kernel:0' shape=(4, 4) dtype=float32, numpy=\n",
              "array([[42.       ,  1.       ,  8.513456 ,  1.       ],\n",
              "       [ 1.       , -7.0642967,  1.       ,  9.1307335],\n",
              "       [ 1.       ,  9.901356 ,  1.       ,  1.       ],\n",
              "       [-8.025812 , -6.4154925,  1.       , -5.074741 ]], dtype=float32)>"
            ]
          },
          "metadata": {},
          "execution_count": 24
        }
      ]
    },
    {
      "cell_type": "markdown",
      "source": [
        "2.3 Tied parameters"
      ],
      "metadata": {
        "id": "V3ZiCt-FPQRV"
      }
    },
    {
      "cell_type": "code",
      "source": [
        "shared = tf.keras.layers.Dense(4, activation=tf.nn.relu)\n",
        "net = tf.keras.models.Sequential([\n",
        "    tf.keras.layers.Flatten(),\n",
        "    shared,\n",
        "    shared,\n",
        "    tf.keras.layers.Dense(1),\n",
        "])\n",
        "\n",
        "net(X)\n",
        "# Check whether the parameters are different\n",
        "print(len(net.layers) == 3)"
      ],
      "metadata": {
        "colab": {
          "base_uri": "https://localhost:8080/"
        },
        "id": "Yel-TdUpPSUK",
        "outputId": "d742b6b4-4ff0-49af-c4cc-ca07f38367f9"
      },
      "execution_count": 25,
      "outputs": [
        {
          "output_type": "stream",
          "name": "stdout",
          "text": [
            "True\n"
          ]
        }
      ]
    },
    {
      "cell_type": "markdown",
      "source": [
        "# **3. Deffered Initialization**"
      ],
      "metadata": {
        "id": "sVN8Q6NfPV_P"
      }
    },
    {
      "cell_type": "markdown",
      "source": [
        "3.1 Instantiating a Network"
      ],
      "metadata": {
        "id": "42kYfgJMPZkO"
      }
    },
    {
      "cell_type": "code",
      "source": [
        "import tensorflow as tf\n",
        "\n",
        "net = tf.keras.models.Sequential([\n",
        "    tf.keras.layers.Dense(256, activation=tf.nn.relu),\n",
        "    tf.keras.layers.Dense(10),\n",
        "])"
      ],
      "metadata": {
        "id": "b1ZIR2xePb9K"
      },
      "execution_count": 26,
      "outputs": []
    },
    {
      "cell_type": "code",
      "source": [
        "[net.layers[i].get_weights() for i in range(len(net.layers))]"
      ],
      "metadata": {
        "colab": {
          "base_uri": "https://localhost:8080/"
        },
        "id": "0mTrZk61PfE4",
        "outputId": "c479e8d6-58a1-4cde-f391-b154e7185928"
      },
      "execution_count": 27,
      "outputs": [
        {
          "output_type": "execute_result",
          "data": {
            "text/plain": [
              "[[], []]"
            ]
          },
          "metadata": {},
          "execution_count": 27
        }
      ]
    },
    {
      "cell_type": "code",
      "source": [
        "X = tf.random.uniform((2, 20))\n",
        "net(X)\n",
        "[w.shape for w in net.get_weights()]"
      ],
      "metadata": {
        "colab": {
          "base_uri": "https://localhost:8080/"
        },
        "id": "kuOK4i2ZPjKO",
        "outputId": "1e5684c1-cfbd-40f9-dafd-7f7b38ed8136"
      },
      "execution_count": 28,
      "outputs": [
        {
          "output_type": "execute_result",
          "data": {
            "text/plain": [
              "[(20, 256), (256,), (256, 10), (10,)]"
            ]
          },
          "metadata": {},
          "execution_count": 28
        }
      ]
    },
    {
      "cell_type": "markdown",
      "source": [
        "# **4. Custom Layers**"
      ],
      "metadata": {
        "id": "gSLQSsndPuvG"
      }
    },
    {
      "cell_type": "markdown",
      "source": [
        "4.1 Layers without Parameters"
      ],
      "metadata": {
        "id": "i1LT4gLwPxUk"
      }
    },
    {
      "cell_type": "code",
      "source": [
        "import tensorflow as tf\n",
        "\n",
        "\n",
        "class CenteredLayer(tf.keras.Model):\n",
        "    def __init__(self):\n",
        "        super().__init__()\n",
        "\n",
        "    def call(self, inputs):\n",
        "        return inputs - tf.reduce_mean(inputs)"
      ],
      "metadata": {
        "id": "8bJvMYhAPzWG"
      },
      "execution_count": 29,
      "outputs": []
    },
    {
      "cell_type": "code",
      "source": [
        "layer = CenteredLayer()\n",
        "layer(tf.constant([1, 2, 3, 4, 5]))"
      ],
      "metadata": {
        "colab": {
          "base_uri": "https://localhost:8080/"
        },
        "id": "qmQUEi2uP2bx",
        "outputId": "7586ef2b-492e-4fdd-ab3d-49569131f4a6"
      },
      "execution_count": 30,
      "outputs": [
        {
          "output_type": "execute_result",
          "data": {
            "text/plain": [
              "<tf.Tensor: shape=(5,), dtype=int32, numpy=array([-2, -1,  0,  1,  2], dtype=int32)>"
            ]
          },
          "metadata": {},
          "execution_count": 30
        }
      ]
    },
    {
      "cell_type": "code",
      "source": [
        "net = tf.keras.Sequential([tf.keras.layers.Dense(128), CenteredLayer()])"
      ],
      "metadata": {
        "id": "bhBbHb_yP5lT"
      },
      "execution_count": 31,
      "outputs": []
    },
    {
      "cell_type": "code",
      "source": [
        "Y = net(tf.random.uniform((4, 8)))\n",
        "tf.reduce_mean(Y)"
      ],
      "metadata": {
        "colab": {
          "base_uri": "https://localhost:8080/"
        },
        "id": "uaP9xrPdPq_E",
        "outputId": "a3ec7798-e42d-4579-a767-beb3a8e2bbd7"
      },
      "execution_count": 32,
      "outputs": [
        {
          "output_type": "execute_result",
          "data": {
            "text/plain": [
              "<tf.Tensor: shape=(), dtype=float32, numpy=1.8626451e-09>"
            ]
          },
          "metadata": {},
          "execution_count": 32
        }
      ]
    },
    {
      "cell_type": "markdown",
      "source": [
        "4.2 Layers with Parameters"
      ],
      "metadata": {
        "id": "tx7CHZEIQAua"
      }
    },
    {
      "cell_type": "code",
      "source": [
        "class MyDense(tf.keras.Model):\n",
        "    def __init__(self, units):\n",
        "        super().__init__()\n",
        "        self.units = units\n",
        "\n",
        "    def build(self, X_shape):\n",
        "        self.weight = self.add_weight(name='weight',\n",
        "            shape=[X_shape[-1], self.units],\n",
        "            initializer=tf.random_normal_initializer())\n",
        "        self.bias = self.add_weight(\n",
        "            name='bias', shape=[self.units],\n",
        "            initializer=tf.zeros_initializer())\n",
        "\n",
        "    def call(self, X):\n",
        "        linear = tf.matmul(X, self.weight) + self.bias\n",
        "        return tf.nn.relu(linear)"
      ],
      "metadata": {
        "id": "A3rdugUxQDqA"
      },
      "execution_count": 33,
      "outputs": []
    },
    {
      "cell_type": "code",
      "source": [
        "dense = MyDense(3)\n",
        "dense(tf.random.uniform((2, 5)))\n",
        "dense.get_weights()\n"
      ],
      "metadata": {
        "colab": {
          "base_uri": "https://localhost:8080/"
        },
        "id": "FPkO8Sf7QGiJ",
        "outputId": "edd0794a-0b4e-48c6-fd0c-2533b4e5657a"
      },
      "execution_count": 34,
      "outputs": [
        {
          "output_type": "execute_result",
          "data": {
            "text/plain": [
              "[array([[-0.05018666,  0.0309556 ,  0.02925599],\n",
              "        [-0.02281049, -0.0153303 ,  0.02628748],\n",
              "        [ 0.06903615,  0.01617797, -0.02294693],\n",
              "        [ 0.03957478, -0.07012694, -0.02378306],\n",
              "        [ 0.09028004, -0.0489617 , -0.066375  ]], dtype=float32),\n",
              " array([0., 0., 0.], dtype=float32)]"
            ]
          },
          "metadata": {},
          "execution_count": 34
        }
      ]
    },
    {
      "cell_type": "code",
      "source": [
        "# We can directly carry out forward propagation calculations using custom layers.\n",
        "dense(tf.random.uniform((2, 5)))"
      ],
      "metadata": {
        "colab": {
          "base_uri": "https://localhost:8080/"
        },
        "id": "9JMAnrzpQMiP",
        "outputId": "a6911428-09ef-4c09-cab8-82660bfcef8d"
      },
      "execution_count": 35,
      "outputs": [
        {
          "output_type": "execute_result",
          "data": {
            "text/plain": [
              "<tf.Tensor: shape=(2, 3), dtype=float32, numpy=\n",
              "array([[0.10502525, 0.        , 0.        ],\n",
              "       [0.04798785, 0.        , 0.        ]], dtype=float32)>"
            ]
          },
          "metadata": {},
          "execution_count": 35
        }
      ]
    },
    {
      "cell_type": "code",
      "source": [
        "net = tf.keras.models.Sequential([MyDense(8), MyDense(1)])\n",
        "net(tf.random.uniform((2, 64)))"
      ],
      "metadata": {
        "colab": {
          "base_uri": "https://localhost:8080/"
        },
        "id": "O8UJks_4QQjz",
        "outputId": "0cb3456e-8b26-437a-e99c-3be4676afdea"
      },
      "execution_count": 36,
      "outputs": [
        {
          "output_type": "execute_result",
          "data": {
            "text/plain": [
              "<tf.Tensor: shape=(2, 1), dtype=float32, numpy=\n",
              "array([[0.],\n",
              "       [0.]], dtype=float32)>"
            ]
          },
          "metadata": {},
          "execution_count": 36
        }
      ]
    },
    {
      "cell_type": "markdown",
      "source": [
        "# **5. File I/O**"
      ],
      "metadata": {
        "id": "nRIDNX4jQTlP"
      }
    },
    {
      "cell_type": "markdown",
      "source": [
        "5.1 Loading and Saving Tensors"
      ],
      "metadata": {
        "id": "5BHkkellQWMX"
      }
    },
    {
      "cell_type": "code",
      "source": [
        "import numpy as np\n",
        "import tensorflow as tf\n",
        "\n",
        "x = tf.range(4)\n",
        "np.save('x-file.npy', x)"
      ],
      "metadata": {
        "id": "dHhcDcMwQYZz"
      },
      "execution_count": 37,
      "outputs": []
    },
    {
      "cell_type": "code",
      "source": [
        "x2 = np.load('x-file.npy', allow_pickle=True)\n",
        "x2"
      ],
      "metadata": {
        "colab": {
          "base_uri": "https://localhost:8080/"
        },
        "id": "qJ7AJA_kQbPG",
        "outputId": "d7fa0c75-624e-4711-f008-f776c6575d8a"
      },
      "execution_count": 38,
      "outputs": [
        {
          "output_type": "execute_result",
          "data": {
            "text/plain": [
              "array([0, 1, 2, 3], dtype=int32)"
            ]
          },
          "metadata": {},
          "execution_count": 38
        }
      ]
    },
    {
      "cell_type": "code",
      "source": [
        "y = tf.zeros(4)\n",
        "np.save('xy-files.npy', [x, y])\n",
        "x2, y2 = np.load('xy-files.npy', allow_pickle=True)\n",
        "(x2, y2)"
      ],
      "metadata": {
        "colab": {
          "base_uri": "https://localhost:8080/"
        },
        "id": "rJOSA63HQevx",
        "outputId": "76b022e0-7986-4c96-9a48-c33575363e60"
      },
      "execution_count": 39,
      "outputs": [
        {
          "output_type": "execute_result",
          "data": {
            "text/plain": [
              "(array([0., 1., 2., 3.]), array([0., 0., 0., 0.]))"
            ]
          },
          "metadata": {},
          "execution_count": 39
        }
      ]
    },
    {
      "cell_type": "code",
      "source": [
        "mydict = {'x': x, 'y': y}\n",
        "np.save('mydict.npy', mydict)\n",
        "mydict2 = np.load('mydict.npy', allow_pickle=True)\n",
        "mydict2"
      ],
      "metadata": {
        "colab": {
          "base_uri": "https://localhost:8080/"
        },
        "id": "Tp7dX9fSQin0",
        "outputId": "5a207f23-72a3-49e4-d6d1-fc3e8dd015ad"
      },
      "execution_count": 40,
      "outputs": [
        {
          "output_type": "execute_result",
          "data": {
            "text/plain": [
              "array({'x': <tf.Tensor: shape=(4,), dtype=int32, numpy=array([0, 1, 2, 3], dtype=int32)>, 'y': <tf.Tensor: shape=(4,), dtype=float32, numpy=array([0., 0., 0., 0.], dtype=float32)>},\n",
              "      dtype=object)"
            ]
          },
          "metadata": {},
          "execution_count": 40
        }
      ]
    },
    {
      "cell_type": "markdown",
      "source": [
        "5.2 Loading and Saving Model Parameters"
      ],
      "metadata": {
        "id": "C8XQn9NcQnCs"
      }
    },
    {
      "cell_type": "code",
      "source": [
        "class MLP(tf.keras.Model):\n",
        "    def __init__(self):\n",
        "        super().__init__()\n",
        "        self.flatten = tf.keras.layers.Flatten()\n",
        "        self.hidden = tf.keras.layers.Dense(units=256, activation=tf.nn.relu)\n",
        "        self.out = tf.keras.layers.Dense(units=10)\n",
        "\n",
        "    def call(self, inputs):\n",
        "        x = self.flatten(inputs)\n",
        "        x = self.hidden(x)\n",
        "        return self.out(x)\n",
        "\n",
        "net = MLP()\n",
        "X = tf.random.uniform((2, 20))\n",
        "Y = net(X)"
      ],
      "metadata": {
        "id": "HP4tq-LnQppZ"
      },
      "execution_count": 41,
      "outputs": []
    },
    {
      "cell_type": "code",
      "source": [
        "net.save_weights('mlp.params')"
      ],
      "metadata": {
        "id": "lykfon1uQsoE"
      },
      "execution_count": 42,
      "outputs": []
    },
    {
      "cell_type": "code",
      "source": [
        "clone = MLP()\n",
        "clone.load_weights('mlp.params')"
      ],
      "metadata": {
        "colab": {
          "base_uri": "https://localhost:8080/"
        },
        "id": "s8-wjWZIQv1C",
        "outputId": "14f648ed-c727-4d90-ffaa-193fe7d442e0"
      },
      "execution_count": 43,
      "outputs": [
        {
          "output_type": "execute_result",
          "data": {
            "text/plain": [
              "<tensorflow.python.training.tracking.util.CheckpointLoadStatus at 0x7f1b0d4f0490>"
            ]
          },
          "metadata": {},
          "execution_count": 43
        }
      ]
    },
    {
      "cell_type": "code",
      "source": [
        "Y_clone = clone(X)\n",
        "Y_clone == Y"
      ],
      "metadata": {
        "colab": {
          "base_uri": "https://localhost:8080/"
        },
        "id": "7PlYYU5HQy4N",
        "outputId": "2f827798-8df8-4ff0-f0e7-e3df7593f859"
      },
      "execution_count": 44,
      "outputs": [
        {
          "output_type": "execute_result",
          "data": {
            "text/plain": [
              "<tf.Tensor: shape=(2, 10), dtype=bool, numpy=\n",
              "array([[ True,  True,  True,  True,  True,  True,  True,  True,  True,\n",
              "         True],\n",
              "       [ True,  True,  True,  True,  True,  True,  True,  True,  True,\n",
              "         True]])>"
            ]
          },
          "metadata": {},
          "execution_count": 44
        }
      ]
    },
    {
      "cell_type": "markdown",
      "source": [
        "# **6. GPUs**"
      ],
      "metadata": {
        "id": "8OhpPuucQ5e8"
      }
    },
    {
      "cell_type": "code",
      "source": [
        "!nvidia-smi"
      ],
      "metadata": {
        "colab": {
          "base_uri": "https://localhost:8080/"
        },
        "id": "QRhsUsERQ_nL",
        "outputId": "657804b2-8d8a-4d84-d86c-5599f9d581e6"
      },
      "execution_count": 46,
      "outputs": [
        {
          "output_type": "stream",
          "name": "stdout",
          "text": [
            "NVIDIA-SMI has failed because it couldn't communicate with the NVIDIA driver. Make sure that the latest NVIDIA driver is installed and running.\n",
            "\n"
          ]
        }
      ]
    },
    {
      "cell_type": "markdown",
      "source": [
        "6.1 Computing Devices\n"
      ],
      "metadata": {
        "id": "OqOb1UOFRQQC"
      }
    },
    {
      "cell_type": "code",
      "source": [
        "import tensorflow as tf\n",
        "\n",
        "tf.device('/CPU:0'), tf.device('/GPU:0'), tf.device('/GPU:1')"
      ],
      "metadata": {
        "colab": {
          "base_uri": "https://localhost:8080/"
        },
        "id": "5YU83wuaRSv8",
        "outputId": "78f64a74-e2d9-4fab-8fcc-48dc8950b9e9"
      },
      "execution_count": 47,
      "outputs": [
        {
          "output_type": "execute_result",
          "data": {
            "text/plain": [
              "(<tensorflow.python.eager.context._EagerDeviceContext at 0x7f1b0d518f00>,\n",
              " <tensorflow.python.eager.context._EagerDeviceContext at 0x7f1b0d5181e0>,\n",
              " <tensorflow.python.eager.context._EagerDeviceContext at 0x7f1b0d5183c0>)"
            ]
          },
          "metadata": {},
          "execution_count": 47
        }
      ]
    },
    {
      "cell_type": "code",
      "source": [
        "len(tf.config.experimental.list_physical_devices('GPU'))"
      ],
      "metadata": {
        "colab": {
          "base_uri": "https://localhost:8080/"
        },
        "id": "Vd1ASHcERegq",
        "outputId": "782302ff-6efd-4fe6-818a-4efbf6b66133"
      },
      "execution_count": 48,
      "outputs": [
        {
          "output_type": "execute_result",
          "data": {
            "text/plain": [
              "0"
            ]
          },
          "metadata": {},
          "execution_count": 48
        }
      ]
    },
    {
      "cell_type": "code",
      "source": [
        "def try_gpu(i=0):\n",
        "    \"\"\"Return gpu(i) if exists, otherwise return cpu().\"\"\"\n",
        "    if len(tf.config.experimental.list_physical_devices('GPU')) >= i + 1:\n",
        "        return tf.device(f'/GPU:{i}')\n",
        "    return tf.device('/CPU:0')\n",
        "\n",
        "def try_all_gpus():\n",
        "    \"\"\"Return all available GPUs, or [cpu(),] if no GPU exists.\"\"\"\n",
        "    num_gpus = len(tf.config.experimental.list_physical_devices('GPU'))\n",
        "    devices = [tf.device(f'/GPU:{i}') for i in range(num_gpus)]\n",
        "    return devices if devices else [tf.device('/CPU:0')]\n",
        "\n",
        "try_gpu(), try_gpu(10), try_all_gpus()"
      ],
      "metadata": {
        "colab": {
          "base_uri": "https://localhost:8080/"
        },
        "id": "mudmt4Y0Rfq6",
        "outputId": "07adeaa2-08f3-4db6-9f8c-27f51a56adea"
      },
      "execution_count": 49,
      "outputs": [
        {
          "output_type": "execute_result",
          "data": {
            "text/plain": [
              "(<tensorflow.python.eager.context._EagerDeviceContext at 0x7f1b0d51c2d0>,\n",
              " <tensorflow.python.eager.context._EagerDeviceContext at 0x7f1b0d5985a0>,\n",
              " [<tensorflow.python.eager.context._EagerDeviceContext at 0x7f1b0d5987d0>])"
            ]
          },
          "metadata": {},
          "execution_count": 49
        }
      ]
    },
    {
      "cell_type": "markdown",
      "source": [
        "6.2 Tensors and GPUs"
      ],
      "metadata": {
        "id": "ADZqE2NbRnRG"
      }
    },
    {
      "cell_type": "code",
      "source": [
        "x = tf.constant([1, 2, 3])\n",
        "x.device"
      ],
      "metadata": {
        "colab": {
          "base_uri": "https://localhost:8080/",
          "height": 35
        },
        "id": "M8FryvrlRkpt",
        "outputId": "ac8b209f-7964-41b0-dcde-e317561f4984"
      },
      "execution_count": 50,
      "outputs": [
        {
          "output_type": "execute_result",
          "data": {
            "text/plain": [
              "'/job:localhost/replica:0/task:0/device:CPU:0'"
            ],
            "application/vnd.google.colaboratory.intrinsic+json": {
              "type": "string"
            }
          },
          "metadata": {},
          "execution_count": 50
        }
      ]
    },
    {
      "cell_type": "markdown",
      "source": [
        "6.2.1 Storage on the GPU"
      ],
      "metadata": {
        "id": "aXo0MPxORt4Q"
      }
    },
    {
      "cell_type": "code",
      "source": [
        "with try_gpu():\n",
        "    X = tf.ones((2, 3))\n",
        "X"
      ],
      "metadata": {
        "colab": {
          "base_uri": "https://localhost:8080/"
        },
        "id": "6fb4B8uvRrWh",
        "outputId": "b0489e05-d10c-4e23-da98-197ec266897a"
      },
      "execution_count": 51,
      "outputs": [
        {
          "output_type": "execute_result",
          "data": {
            "text/plain": [
              "<tf.Tensor: shape=(2, 3), dtype=float32, numpy=\n",
              "array([[1., 1., 1.],\n",
              "       [1., 1., 1.]], dtype=float32)>"
            ]
          },
          "metadata": {},
          "execution_count": 51
        }
      ]
    },
    {
      "cell_type": "code",
      "source": [
        "with try_gpu(1):\n",
        "    Y = tf.random.uniform((2, 3))\n",
        "Y"
      ],
      "metadata": {
        "colab": {
          "base_uri": "https://localhost:8080/"
        },
        "id": "xTDPfwWXR_bs",
        "outputId": "a85cda59-6c54-4643-dbd0-24f710aa838a"
      },
      "execution_count": 52,
      "outputs": [
        {
          "output_type": "execute_result",
          "data": {
            "text/plain": [
              "<tf.Tensor: shape=(2, 3), dtype=float32, numpy=\n",
              "array([[0.31005168, 0.9861666 , 0.19874144],\n",
              "       [0.49737835, 0.24993241, 0.8913387 ]], dtype=float32)>"
            ]
          },
          "metadata": {},
          "execution_count": 52
        }
      ]
    },
    {
      "cell_type": "markdown",
      "source": [
        "6.2.2 Copying"
      ],
      "metadata": {
        "id": "yR7dOr49SA6-"
      }
    },
    {
      "cell_type": "code",
      "source": [
        "with try_gpu(1):\n",
        "    Z = X\n",
        "print(X)\n",
        "print(Z)"
      ],
      "metadata": {
        "colab": {
          "base_uri": "https://localhost:8080/"
        },
        "id": "2nz1TbW8SDPP",
        "outputId": "a121f04f-6f95-42ae-b939-e3ae767c594a"
      },
      "execution_count": 53,
      "outputs": [
        {
          "output_type": "stream",
          "name": "stdout",
          "text": [
            "tf.Tensor(\n",
            "[[1. 1. 1.]\n",
            " [1. 1. 1.]], shape=(2, 3), dtype=float32)\n",
            "tf.Tensor(\n",
            "[[1. 1. 1.]\n",
            " [1. 1. 1.]], shape=(2, 3), dtype=float32)\n"
          ]
        }
      ]
    },
    {
      "cell_type": "code",
      "source": [
        "# Now that the data are on the same GPU (both Z and Y are), we can add them up.\n",
        "Y + Z"
      ],
      "metadata": {
        "colab": {
          "base_uri": "https://localhost:8080/"
        },
        "id": "6Nwl8IBmSGRX",
        "outputId": "ad656ca6-2920-4bc0-f489-189c84b4c5aa"
      },
      "execution_count": 54,
      "outputs": [
        {
          "output_type": "execute_result",
          "data": {
            "text/plain": [
              "<tf.Tensor: shape=(2, 3), dtype=float32, numpy=\n",
              "array([[1.3100517, 1.9861666, 1.1987414],\n",
              "       [1.4973783, 1.2499324, 1.8913387]], dtype=float32)>"
            ]
          },
          "metadata": {},
          "execution_count": 54
        }
      ]
    },
    {
      "cell_type": "code",
      "source": [
        "with try_gpu(1):\n",
        "    Z2 = Z\n",
        "Z2 is Z"
      ],
      "metadata": {
        "colab": {
          "base_uri": "https://localhost:8080/"
        },
        "id": "CkS3Yd4XSKVV",
        "outputId": "4836138a-f6b8-4c27-b14e-a566440928de"
      },
      "execution_count": 55,
      "outputs": [
        {
          "output_type": "execute_result",
          "data": {
            "text/plain": [
              "True"
            ]
          },
          "metadata": {},
          "execution_count": 55
        }
      ]
    },
    {
      "cell_type": "markdown",
      "source": [
        "6.3 Neural Networks and GPUs"
      ],
      "metadata": {
        "id": "xP_-QOFZSP4R"
      }
    },
    {
      "cell_type": "code",
      "source": [
        "strategy = tf.distribute.MirroredStrategy()\n",
        "with strategy.scope():\n",
        "    net = tf.keras.models.Sequential([\n",
        "        tf.keras.layers.Dense(1)])"
      ],
      "metadata": {
        "colab": {
          "base_uri": "https://localhost:8080/"
        },
        "id": "Fe74bmIySQrz",
        "outputId": "54500101-bc8e-4eb7-f07a-996be21b444c"
      },
      "execution_count": 56,
      "outputs": [
        {
          "output_type": "stream",
          "name": "stdout",
          "text": [
            "WARNING:tensorflow:There are non-GPU devices in `tf.distribute.Strategy`, not using nccl allreduce.\n",
            "INFO:tensorflow:Using MirroredStrategy with devices ('/job:localhost/replica:0/task:0/device:CPU:0',)\n"
          ]
        }
      ]
    },
    {
      "cell_type": "code",
      "source": [
        "net(X)"
      ],
      "metadata": {
        "colab": {
          "base_uri": "https://localhost:8080/"
        },
        "id": "EVdlOzWkSTwm",
        "outputId": "cea915e0-f6fc-40a5-e7bf-88ccd4f21e77"
      },
      "execution_count": 57,
      "outputs": [
        {
          "output_type": "execute_result",
          "data": {
            "text/plain": [
              "<tf.Tensor: shape=(2, 1), dtype=float32, numpy=\n",
              "array([[-0.8378476],\n",
              "       [-0.8378476]], dtype=float32)>"
            ]
          },
          "metadata": {},
          "execution_count": 57
        }
      ]
    },
    {
      "cell_type": "code",
      "source": [
        "net.layers[0].weights[0].device, net.layers[0].weights[1].device"
      ],
      "metadata": {
        "colab": {
          "base_uri": "https://localhost:8080/"
        },
        "id": "IuHw-MyXSW7F",
        "outputId": "42d74f8c-fdf4-438a-a538-5b74e824c268"
      },
      "execution_count": 58,
      "outputs": [
        {
          "output_type": "execute_result",
          "data": {
            "text/plain": [
              "('/job:localhost/replica:0/task:0/device:CPU:0',\n",
              " '/job:localhost/replica:0/task:0/device:CPU:0')"
            ]
          },
          "metadata": {},
          "execution_count": 58
        }
      ]
    }
  ]
}